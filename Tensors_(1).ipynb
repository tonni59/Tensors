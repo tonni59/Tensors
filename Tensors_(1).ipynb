{
  "cells": [
    {
      "cell_type": "markdown",
      "metadata": {
        "id": "view-in-github",
        "colab_type": "text"
      },
      "source": [
        "<a href=\"https://colab.research.google.com/github/tonni59/Tensors/blob/main/Tensors_(1).ipynb\" target=\"_parent\"><img src=\"https://colab.research.google.com/assets/colab-badge.svg\" alt=\"Open In Colab\"/></a>"
      ]
    },
    {
      "cell_type": "code",
      "execution_count": null,
      "id": "f6d5aaa0",
      "metadata": {
        "id": "f6d5aaa0"
      },
      "outputs": [],
      "source": [
        "import torch\n",
        "import numpy as np"
      ]
    },
    {
      "cell_type": "code",
      "execution_count": null,
      "id": "54eb9df4",
      "metadata": {
        "id": "54eb9df4",
        "outputId": "b7dbf00d-6bdb-40e0-93f5-595535878cb6"
      },
      "outputs": [
        {
          "data": {
            "text/plain": [
              "tensor([[1, 2],\n",
              "        [3, 4]])"
            ]
          },
          "execution_count": 4,
          "metadata": {},
          "output_type": "execute_result"
        }
      ],
      "source": [
        "data=[[1,2],[3,4]]\n",
        "x_data= torch.tensor(data)\n",
        "x_data"
      ]
    },
    {
      "cell_type": "code",
      "execution_count": null,
      "id": "d747914c",
      "metadata": {
        "id": "d747914c",
        "outputId": "53e0f343-abd6-40a7-d859-9567feae98c6"
      },
      "outputs": [
        {
          "data": {
            "text/plain": [
              "array([[1, 2],\n",
              "       [3, 4]])"
            ]
          },
          "execution_count": 5,
          "metadata": {},
          "output_type": "execute_result"
        }
      ],
      "source": [
        "arr=np.array(data)\n",
        "arr"
      ]
    },
    {
      "cell_type": "code",
      "execution_count": null,
      "id": "c535d922",
      "metadata": {
        "id": "c535d922",
        "outputId": "11427f2f-a117-4edb-8bdf-6d8868688803"
      },
      "outputs": [
        {
          "data": {
            "text/plain": [
              "tensor([[1, 2],\n",
              "        [3, 4]], dtype=torch.int32)"
            ]
          },
          "execution_count": 6,
          "metadata": {},
          "output_type": "execute_result"
        }
      ],
      "source": [
        "x=torch.from_numpy(arr)\n",
        "x"
      ]
    },
    {
      "cell_type": "code",
      "execution_count": null,
      "id": "8b0cf6f3",
      "metadata": {
        "id": "8b0cf6f3",
        "outputId": "3d831a7c-63be-4e22-d62b-bc4b2774e7a8"
      },
      "outputs": [
        {
          "data": {
            "text/plain": [
              "tensor([[1, 1],\n",
              "        [1, 1]], dtype=torch.int32)"
            ]
          },
          "execution_count": 8,
          "metadata": {},
          "output_type": "execute_result"
        }
      ],
      "source": [
        "x_ones= torch.ones_like(x)\n",
        "x_ones"
      ]
    },
    {
      "cell_type": "code",
      "execution_count": null,
      "id": "7c49c27c",
      "metadata": {
        "id": "7c49c27c",
        "outputId": "313ec1e0-3aeb-4363-b31f-c23c4af69e86"
      },
      "outputs": [
        {
          "data": {
            "text/plain": [
              "tensor([[0, 0],\n",
              "        [0, 0]], dtype=torch.int32)"
            ]
          },
          "execution_count": 6,
          "metadata": {},
          "output_type": "execute_result"
        }
      ],
      "source": [
        "x_zeros= torch.zeros_like(x)\n",
        "x_zeros"
      ]
    },
    {
      "cell_type": "code",
      "execution_count": null,
      "id": "8ac2e096",
      "metadata": {
        "id": "8ac2e096",
        "outputId": "fc688e06-b451-48f1-cedb-8980893cf0b2"
      },
      "outputs": [
        {
          "data": {
            "text/plain": [
              "tensor([[0.3538, 0.6149],\n",
              "        [0.8535, 0.5190]])"
            ]
          },
          "execution_count": 9,
          "metadata": {},
          "output_type": "execute_result"
        }
      ],
      "source": [
        "x_rand= torch.rand_like(x, dtype=torch.float)\n",
        "x_rand"
      ]
    },
    {
      "cell_type": "code",
      "execution_count": null,
      "id": "a942fd8d",
      "metadata": {
        "id": "a942fd8d",
        "outputId": "2fabb289-2417-4c46-cb51-7b0cc355cf10"
      },
      "outputs": [
        {
          "data": {
            "text/plain": [
              "tensor([[0.0137, 0.1747, 0.1486],\n",
              "        [0.1581, 0.8486, 0.2128]])"
            ]
          },
          "execution_count": 10,
          "metadata": {},
          "output_type": "execute_result"
        }
      ],
      "source": [
        "rand_tensor= torch.rand(2,3)\n",
        "rand_tensor"
      ]
    },
    {
      "cell_type": "code",
      "execution_count": null,
      "id": "1255f929",
      "metadata": {
        "id": "1255f929",
        "outputId": "e11746be-5b0b-4192-a135-005990e79523"
      },
      "outputs": [
        {
          "data": {
            "text/plain": [
              "tensor([[1., 1., 1.],\n",
              "        [1., 1., 1.]])"
            ]
          },
          "execution_count": 11,
          "metadata": {},
          "output_type": "execute_result"
        }
      ],
      "source": [
        "ones_tensor= torch.ones(2,3, dtype=torch.float32)\n",
        "ones_tensor"
      ]
    },
    {
      "cell_type": "code",
      "execution_count": null,
      "id": "6c82df3c",
      "metadata": {
        "id": "6c82df3c",
        "outputId": "e5c7c0c8-68ae-44dd-ddea-e955c1301347"
      },
      "outputs": [
        {
          "data": {
            "text/plain": [
              "tensor([[0., 0., 0.],\n",
              "        [0., 0., 0.]])"
            ]
          },
          "execution_count": 12,
          "metadata": {},
          "output_type": "execute_result"
        }
      ],
      "source": [
        "zeros_tensor= torch.zeros(2,3)\n",
        "zeros_tensor"
      ]
    },
    {
      "cell_type": "code",
      "execution_count": null,
      "id": "06e097d4",
      "metadata": {
        "id": "06e097d4",
        "outputId": "37d2d8a6-b08d-4bdd-b976-b0c7eedbc01c"
      },
      "outputs": [
        {
          "data": {
            "text/plain": [
              "torch.Size([2, 3])"
            ]
          },
          "execution_count": 13,
          "metadata": {},
          "output_type": "execute_result"
        }
      ],
      "source": [
        "rand_tensor.shape"
      ]
    },
    {
      "cell_type": "code",
      "execution_count": null,
      "id": "de6eada5",
      "metadata": {
        "id": "de6eada5",
        "outputId": "0f6c16ac-2b03-4b17-9c20-3258f42d0e2d"
      },
      "outputs": [
        {
          "data": {
            "text/plain": [
              "torch.float32"
            ]
          },
          "execution_count": 14,
          "metadata": {},
          "output_type": "execute_result"
        }
      ],
      "source": [
        "rand_tensor.dtype"
      ]
    },
    {
      "cell_type": "code",
      "execution_count": null,
      "id": "1d923a62",
      "metadata": {
        "id": "1d923a62",
        "outputId": "228d6443-95c2-4ee1-9e89-98ff5b6c3f00"
      },
      "outputs": [
        {
          "data": {
            "text/plain": [
              "device(type='cpu')"
            ]
          },
          "execution_count": 15,
          "metadata": {},
          "output_type": "execute_result"
        }
      ],
      "source": [
        "rand_tensor.device"
      ]
    },
    {
      "cell_type": "code",
      "execution_count": null,
      "id": "baf06bea",
      "metadata": {
        "id": "baf06bea"
      },
      "outputs": [],
      "source": [
        "if torch.cuda.is_available():\n",
        "    rand_tensor = rand_tensor.to('cuda')"
      ]
    },
    {
      "cell_type": "code",
      "execution_count": null,
      "id": "addc0f46",
      "metadata": {
        "id": "addc0f46",
        "outputId": "2b70572f-3eb2-40e0-beb1-a70be52525b8"
      },
      "outputs": [
        {
          "data": {
            "text/plain": [
              "tensor([[0.0137, 0.1747, 0.1486],\n",
              "        [0.1581, 0.8486, 0.2128]])"
            ]
          },
          "execution_count": 17,
          "metadata": {},
          "output_type": "execute_result"
        }
      ],
      "source": [
        " rand_tensor"
      ]
    },
    {
      "cell_type": "code",
      "execution_count": null,
      "id": "789e2b78",
      "metadata": {
        "id": "789e2b78",
        "outputId": "4c8baa5c-5242-46bc-a5d1-ef79ca5e6642"
      },
      "outputs": [
        {
          "data": {
            "text/plain": [
              "tensor([[0.0137, 1.0000, 0.1486],\n",
              "        [0.1581, 1.0000, 0.2128]])"
            ]
          },
          "execution_count": 18,
          "metadata": {},
          "output_type": "execute_result"
        }
      ],
      "source": [
        "rand_tensor[:,1]=1\n",
        "rand_tensor"
      ]
    },
    {
      "cell_type": "code",
      "execution_count": null,
      "id": "b1ba89e1",
      "metadata": {
        "id": "b1ba89e1",
        "outputId": "019004f0-3071-4aff-d732-ee2986b11493"
      },
      "outputs": [
        {
          "data": {
            "text/plain": [
              "tensor([0.0137, 1.0000, 0.1486])"
            ]
          },
          "execution_count": 19,
          "metadata": {},
          "output_type": "execute_result"
        }
      ],
      "source": [
        "rand_tensor[0]"
      ]
    },
    {
      "cell_type": "code",
      "execution_count": null,
      "id": "d147b3b2",
      "metadata": {
        "id": "d147b3b2",
        "outputId": "bf9e59d0-8476-47c4-9fe5-fa422c819419"
      },
      "outputs": [
        {
          "data": {
            "text/plain": [
              "tensor([0.0137, 0.1581])"
            ]
          },
          "execution_count": 20,
          "metadata": {},
          "output_type": "execute_result"
        }
      ],
      "source": [
        "rand_tensor[:,0]"
      ]
    },
    {
      "cell_type": "code",
      "execution_count": null,
      "id": "b3cb4dad",
      "metadata": {
        "id": "b3cb4dad",
        "outputId": "6288c023-9a62-447e-b35b-c87762213792"
      },
      "outputs": [
        {
          "data": {
            "text/plain": [
              "tensor([0.1486, 0.2128])"
            ]
          },
          "execution_count": 21,
          "metadata": {},
          "output_type": "execute_result"
        }
      ],
      "source": [
        "rand_tensor[...,-1]"
      ]
    },
    {
      "cell_type": "code",
      "execution_count": null,
      "id": "9c1e9707",
      "metadata": {
        "id": "9c1e9707",
        "outputId": "727114c9-b938-453d-b1b5-542b8629f449"
      },
      "outputs": [
        {
          "data": {
            "text/plain": [
              "tensor(2.5332)"
            ]
          },
          "execution_count": 22,
          "metadata": {},
          "output_type": "execute_result"
        }
      ],
      "source": [
        "rand_tensor.sum()"
      ]
    },
    {
      "cell_type": "code",
      "execution_count": null,
      "id": "13f6ca2c",
      "metadata": {
        "id": "13f6ca2c",
        "outputId": "f0be2fb2-4b17-4b3e-e325-2b8a9a90368d"
      },
      "outputs": [
        {
          "data": {
            "text/plain": [
              "2.533215284347534"
            ]
          },
          "execution_count": 23,
          "metadata": {},
          "output_type": "execute_result"
        }
      ],
      "source": [
        "rand_tensor.sum().item()"
      ]
    },
    {
      "cell_type": "code",
      "execution_count": null,
      "id": "0dc9ff6f",
      "metadata": {
        "id": "0dc9ff6f",
        "outputId": "cb7adb87-1895-4210-e163-5394ea3601ee"
      },
      "outputs": [
        {
          "data": {
            "text/plain": [
              "tensor([[0.0137, 1.0000, 0.1486, 0.0000, 0.0000, 0.0000],\n",
              "        [0.1581, 1.0000, 0.2128, 0.0000, 0.0000, 0.0000]])"
            ]
          },
          "execution_count": 24,
          "metadata": {},
          "output_type": "execute_result"
        }
      ],
      "source": [
        "t1= torch.cat([rand_tensor, zeros_tensor],dim=1)\n",
        "t1"
      ]
    },
    {
      "cell_type": "code",
      "execution_count": null,
      "id": "75cda023",
      "metadata": {
        "id": "75cda023",
        "outputId": "b31337ed-0878-494e-c400-b325b7671510"
      },
      "outputs": [
        {
          "data": {
            "text/plain": [
              "tensor([[0.0137, 1.0000, 0.1486],\n",
              "        [0.1581, 1.0000, 0.2128],\n",
              "        [0.0000, 0.0000, 0.0000],\n",
              "        [0.0000, 0.0000, 0.0000]])"
            ]
          },
          "execution_count": 25,
          "metadata": {},
          "output_type": "execute_result"
        }
      ],
      "source": [
        "t2= torch.cat([rand_tensor, zeros_tensor],dim=0)\n",
        "t2"
      ]
    },
    {
      "cell_type": "code",
      "execution_count": null,
      "id": "1ae20314",
      "metadata": {
        "id": "1ae20314",
        "outputId": "801f3b43-5be1-4820-df9d-d773fda90ae6"
      },
      "outputs": [
        {
          "data": {
            "text/plain": [
              "tensor([[0.0137, 1.0000, 0.1486],\n",
              "        [0.1581, 1.0000, 0.2128]])"
            ]
          },
          "execution_count": 26,
          "metadata": {},
          "output_type": "execute_result"
        }
      ],
      "source": [
        "rand_tensor.mul(ones_tensor)"
      ]
    },
    {
      "cell_type": "code",
      "execution_count": null,
      "id": "ab397f6c",
      "metadata": {
        "id": "ab397f6c",
        "outputId": "4b19f37c-f4fe-428d-9bbb-1d82bef96569"
      },
      "outputs": [
        {
          "data": {
            "text/plain": [
              "tensor([[1.0223, 1.0338],\n",
              "        [1.0338, 1.0703]])"
            ]
          },
          "execution_count": 27,
          "metadata": {},
          "output_type": "execute_result"
        }
      ],
      "source": [
        "rand_tensor.matmul(rand_tensor.T)"
      ]
    },
    {
      "cell_type": "code",
      "execution_count": null,
      "id": "c2678701",
      "metadata": {
        "id": "c2678701",
        "outputId": "637c06d2-f6fa-4fce-8a79-df8946056b44"
      },
      "outputs": [
        {
          "data": {
            "text/plain": [
              "tensor([[5.0137, 6.0000, 5.1486],\n",
              "        [5.1581, 6.0000, 5.2128]])"
            ]
          },
          "execution_count": 28,
          "metadata": {},
          "output_type": "execute_result"
        }
      ],
      "source": [
        "rand_tensor.add_(5)"
      ]
    },
    {
      "cell_type": "code",
      "execution_count": null,
      "id": "a914df74",
      "metadata": {
        "id": "a914df74",
        "outputId": "1681a14c-1d57-4fe1-f0df-2b70d925f88e"
      },
      "outputs": [
        {
          "data": {
            "text/plain": [
              "array([1., 1., 1., 1., 1.])"
            ]
          },
          "execution_count": 29,
          "metadata": {},
          "output_type": "execute_result"
        }
      ],
      "source": [
        "n= np.ones(5)\n",
        "n"
      ]
    },
    {
      "cell_type": "code",
      "execution_count": null,
      "id": "7239be0f",
      "metadata": {
        "id": "7239be0f",
        "outputId": "200bd6da-3d52-4fb8-9273-cfc667041ce3"
      },
      "outputs": [
        {
          "data": {
            "text/plain": [
              "tensor([1., 1., 1., 1., 1.], dtype=torch.float64)"
            ]
          },
          "execution_count": 30,
          "metadata": {},
          "output_type": "execute_result"
        }
      ],
      "source": [
        "t=torch.from_numpy(n)\n",
        "t"
      ]
    },
    {
      "cell_type": "code",
      "execution_count": null,
      "id": "0fcf8463",
      "metadata": {
        "id": "0fcf8463",
        "outputId": "4d39b27f-def7-4f10-b15c-d5bece4afda2"
      },
      "outputs": [
        {
          "data": {
            "text/plain": [
              "tensor([2., 2., 2., 2., 2.], dtype=torch.float64)"
            ]
          },
          "execution_count": 31,
          "metadata": {},
          "output_type": "execute_result"
        }
      ],
      "source": [
        "t.add_(1)"
      ]
    },
    {
      "cell_type": "code",
      "execution_count": null,
      "id": "767d2790",
      "metadata": {
        "id": "767d2790",
        "outputId": "c60ce179-316c-45f6-87cd-fbdbee1e706c"
      },
      "outputs": [
        {
          "name": "stdout",
          "output_type": "stream",
          "text": [
            "tensor([3.5873e-43])\n"
          ]
        }
      ],
      "source": [
        "x = torch.empty(1)\n",
        "print(x)"
      ]
    },
    {
      "cell_type": "code",
      "execution_count": null,
      "id": "57edc9ef",
      "metadata": {
        "id": "57edc9ef",
        "outputId": "61c347a7-455c-4065-9102-d1df52f3aa20"
      },
      "outputs": [
        {
          "data": {
            "text/plain": [
              "torch.Size([1])"
            ]
          },
          "execution_count": 33,
          "metadata": {},
          "output_type": "execute_result"
        }
      ],
      "source": [
        "x.size()"
      ]
    },
    {
      "cell_type": "code",
      "execution_count": null,
      "id": "381bcc02",
      "metadata": {
        "id": "381bcc02",
        "outputId": "94f5a1af-fd99-4dd1-9617-18d7b81a4b95"
      },
      "outputs": [
        {
          "name": "stdout",
          "output_type": "stream",
          "text": [
            "tensor([[5.0137, 6.0000, 5.1486],\n",
            "        [5.1581, 6.0000, 5.2128]])\n"
          ]
        }
      ],
      "source": [
        "x = torch.empty(2,3)\n",
        "print(x)"
      ]
    },
    {
      "cell_type": "code",
      "execution_count": null,
      "id": "00ff73db",
      "metadata": {
        "id": "00ff73db",
        "outputId": "5a612db6-f3b4-400c-ec98-d309d674a577"
      },
      "outputs": [
        {
          "data": {
            "text/plain": [
              "tensor([[[0., 0., 0.],\n",
              "         [0., 0., 0.]],\n",
              "\n",
              "        [[0., 0., 0.],\n",
              "         [0., 0., 0.]]])"
            ]
          },
          "execution_count": 35,
          "metadata": {},
          "output_type": "execute_result"
        }
      ],
      "source": [
        "torch.empty(2,2,3)"
      ]
    },
    {
      "cell_type": "code",
      "execution_count": null,
      "id": "710a8b0a",
      "metadata": {
        "id": "710a8b0a",
        "outputId": "da76b22b-a27a-4b31-b961-a84ffe271fc4"
      },
      "outputs": [
        {
          "data": {
            "text/plain": [
              "tensor([5.0137, 6.0000, 5.1486, 5.1581, 6.0000, 5.2128])"
            ]
          },
          "execution_count": 36,
          "metadata": {},
          "output_type": "execute_result"
        }
      ],
      "source": [
        "y=x.view(6)\n",
        "y"
      ]
    },
    {
      "cell_type": "code",
      "execution_count": null,
      "id": "3f9f3100",
      "metadata": {
        "id": "3f9f3100",
        "outputId": "f5f487d9-585a-429a-9d56-8ca1f30e6555"
      },
      "outputs": [
        {
          "data": {
            "text/plain": [
              "tensor([[5.0137, 6.0000, 5.1486, 5.1581, 6.0000, 5.2128]])"
            ]
          },
          "execution_count": 37,
          "metadata": {},
          "output_type": "execute_result"
        }
      ],
      "source": [
        "z=x.view(1,-1)\n",
        "z"
      ]
    },
    {
      "cell_type": "code",
      "execution_count": null,
      "id": "ef1cf9b1",
      "metadata": {
        "id": "ef1cf9b1",
        "outputId": "59d5279c-42c1-4de3-e224-1700824bb3a7"
      },
      "outputs": [
        {
          "data": {
            "text/plain": [
              "(tensor([[1., 1.],\n",
              "         [1., 1.]]),\n",
              " tensor([[1., 1.],\n",
              "         [1., 1.]]))"
            ]
          },
          "execution_count": 38,
          "metadata": {},
          "output_type": "execute_result"
        }
      ],
      "source": [
        "a= torch.ones(2,2)\n",
        "b= torch.ones(2,2)\n",
        "a,b"
      ]
    },
    {
      "cell_type": "code",
      "execution_count": null,
      "id": "115f2bee",
      "metadata": {
        "id": "115f2bee",
        "outputId": "89e98010-0094-4a07-aa2b-5c1390013a32"
      },
      "outputs": [
        {
          "data": {
            "text/plain": [
              "tensor([[2., 2.],\n",
              "        [2., 2.]])"
            ]
          },
          "execution_count": 39,
          "metadata": {},
          "output_type": "execute_result"
        }
      ],
      "source": [
        "a+b"
      ]
    },
    {
      "cell_type": "code",
      "execution_count": null,
      "id": "394d84ca",
      "metadata": {
        "id": "394d84ca",
        "outputId": "613495ea-327c-4258-a6bd-15c9f2cbfdb2"
      },
      "outputs": [
        {
          "data": {
            "text/plain": [
              "tensor([[0., 0.],\n",
              "        [0., 0.]])"
            ]
          },
          "execution_count": 40,
          "metadata": {},
          "output_type": "execute_result"
        }
      ],
      "source": [
        "a-b"
      ]
    },
    {
      "cell_type": "code",
      "execution_count": null,
      "id": "7f0a6ce5",
      "metadata": {
        "id": "7f0a6ce5",
        "outputId": "9fbb7e59-764b-4842-a24b-52faf717014b"
      },
      "outputs": [
        {
          "data": {
            "text/plain": [
              "tensor([[1., 1.],\n",
              "        [1., 1.]])"
            ]
          },
          "execution_count": 41,
          "metadata": {},
          "output_type": "execute_result"
        }
      ],
      "source": [
        "a*b"
      ]
    },
    {
      "cell_type": "code",
      "execution_count": null,
      "id": "f5607395",
      "metadata": {
        "id": "f5607395",
        "outputId": "bc42c0b0-911b-4a78-c003-6af6906bd568"
      },
      "outputs": [
        {
          "data": {
            "text/plain": [
              "tensor([[1., 1.],\n",
              "        [1., 1.]])"
            ]
          },
          "execution_count": 42,
          "metadata": {},
          "output_type": "execute_result"
        }
      ],
      "source": [
        "a/b"
      ]
    },
    {
      "cell_type": "code",
      "execution_count": null,
      "id": "7b39c12b",
      "metadata": {
        "id": "7b39c12b",
        "outputId": "4b253d83-5c87-4ee5-c6be-048654cb849e"
      },
      "outputs": [
        {
          "data": {
            "text/plain": [
              "1.0"
            ]
          },
          "execution_count": 43,
          "metadata": {},
          "output_type": "execute_result"
        }
      ],
      "source": [
        "a[1,1].item()"
      ]
    },
    {
      "cell_type": "code",
      "execution_count": null,
      "id": "e4a12002",
      "metadata": {
        "id": "e4a12002",
        "outputId": "e960e918-7bd2-4fe7-8022-814d67a463a7"
      },
      "outputs": [
        {
          "data": {
            "text/plain": [
              "tensor([[50, 50, 50],\n",
              "        [50, 50, 50]])"
            ]
          },
          "execution_count": 3,
          "metadata": {},
          "output_type": "execute_result"
        }
      ],
      "source": [
        "torch.full((2,3),50)"
      ]
    },
    {
      "cell_type": "code",
      "execution_count": null,
      "id": "2bc6ec0e",
      "metadata": {
        "id": "2bc6ec0e"
      },
      "outputs": [],
      "source": []
    }
  ],
  "metadata": {
    "kernelspec": {
      "display_name": "Python 3 (ipykernel)",
      "language": "python",
      "name": "python3"
    },
    "language_info": {
      "codemirror_mode": {
        "name": "ipython",
        "version": 3
      },
      "file_extension": ".py",
      "mimetype": "text/x-python",
      "name": "python",
      "nbconvert_exporter": "python",
      "pygments_lexer": "ipython3",
      "version": "3.9.13"
    },
    "colab": {
      "provenance": [],
      "include_colab_link": true
    }
  },
  "nbformat": 4,
  "nbformat_minor": 5
}